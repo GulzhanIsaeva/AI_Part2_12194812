{
  "nbformat": 4,
  "nbformat_minor": 0,
  "metadata": {
    "colab": {
      "provenance": [],
      "collapsed_sections": [],
      "authorship_tag": "ABX9TyOILxW7GUGFa3Vyp15y3HFq",
      "include_colab_link": true
    },
    "kernelspec": {
      "name": "python3",
      "display_name": "Python 3"
    },
    "language_info": {
      "name": "python"
    }
  },
  "cells": [
    {
      "cell_type": "markdown",
      "metadata": {
        "id": "view-in-github",
        "colab_type": "text"
      },
      "source": [
        "<a href=\"https://colab.research.google.com/github/GulzhanIsaeva/AI_Part2_12194812/blob/main/Week10_labs.ipynb\" target=\"_parent\"><img src=\"https://colab.research.google.com/assets/colab-badge.svg\" alt=\"Open In Colab\"/></a>"
      ]
    },
    {
      "cell_type": "markdown",
      "source": [
        "# Week 10 Lab 1.1"
      ],
      "metadata": {
        "id": "ihfuMm0wBy0g"
      }
    },
    {
      "cell_type": "code",
      "execution_count": 2,
      "metadata": {
        "id": "G0cxyP4s8Uj-"
      },
      "outputs": [],
      "source": [
        "import torch\n",
        "import torchvision\n",
        "from torchvision import transforms\n",
        "from PIL import Image\n",
        "\n",
        "device = torch.device(\"cuda:0\" if torch.cuda.is_available() else \"cpu\")"
      ]
    },
    {
      "cell_type": "code",
      "source": [
        "# Load and preprocess image\n",
        "image = Image.open('/content/dog.jpeg')\n",
        "preprocess = transforms.Compose([\n",
        "    transforms.Resize((224, 224)),\n",
        "    transforms.ToTensor(),\n",
        "    transforms.Normalize(mean=[0.485, 0.456, 0.406], std=[0.229, 0.224, 0.225])\n",
        "]) \n",
        "# Parameters are documented at pytorch.org\n",
        "input_tensor = preprocess(image)\n",
        "\n",
        "#Convert to 4-dimensional tensor\n",
        "inputs = input_tensor.unsqueeze(0)"
      ],
      "metadata": {
        "id": "r6rbE93y_oLG"
      },
      "execution_count": 6,
      "outputs": []
    },
    {
      "cell_type": "markdown",
      "source": [
        "# Week 10 Lab 1.2"
      ],
      "metadata": {
        "id": "zkpXO8_NB5Cv"
      }
    },
    {
      "cell_type": "code",
      "source": [
        "# Load the pre-trained model\n",
        "model = torchvision.models.resnet50(weights=torchvision.models.ResNet50_Weights.IMAGENET1K_V1)\n",
        "model.eval()\n",
        "\n",
        "# TRansfer model to GPU\n",
        "model.to(device)\n",
        "\n",
        "# Do prediction\n",
        "inputs = inputs.to(device)\n",
        "with torch.no_grad():\n",
        "  outputs = model(inputs)\n",
        "\n",
        "# Convert to Probabilities, since the final SoftMax activation is not in pretrained model\n",
        "probabilities = torch.nn.functional.softmax(outputs[0], dim=0)\n",
        "\n",
        "# Print class ID for top 5 predictions\n",
        "_, indices = torch.sort(probabilities, descending=True)\n",
        "for i in range (0, 5):\n",
        "  print('ImageNet class:', indices[i].item(), '.probability = %4.3f' %probabilities[indices[i]].item())\n",
        "\n",
        "# Show image\n",
        "image.show()"
      ],
      "metadata": {
        "id": "KMu_j55eCNAu",
        "colab": {
          "base_uri": "https://localhost:8080/"
        },
        "outputId": "2d7844af-4b69-456c-a1a3-d8d3048033a9"
      },
      "execution_count": 12,
      "outputs": [
        {
          "output_type": "stream",
          "name": "stdout",
          "text": [
            "ImageNet class: 222 .probability = 0.313\n",
            "ImageNet class: 208 .probability = 0.242\n",
            "ImageNet class: 257 .probability = 0.058\n",
            "ImageNet class: 207 .probability = 0.032\n",
            "ImageNet class: 852 .probability = 0.026\n"
          ]
        }
      ]
    }
  ]
}